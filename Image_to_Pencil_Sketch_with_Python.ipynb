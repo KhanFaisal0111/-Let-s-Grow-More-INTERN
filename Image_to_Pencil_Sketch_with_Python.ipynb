{
 "cells": [
  {
   "cell_type": "markdown",
   "metadata": {
    "id": "17KpGtfGMB6E"
   },
   "source": [
    "LetsGrowMore #AUGUST2022\n",
    "\n",
    "\n",
    "Author - KHAN FAISAL ISHTIYAQUE\n",
    "\n",
    "Task-1: Image to Pencil Sketch with Python"
   ]
  },
  {
   "cell_type": "markdown",
   "metadata": {
    "id": "lyAwqIWvMK3x"
   },
   "source": [
    "Importing Required Libraries"
   ]
  },
  {
   "cell_type": "code",
   "execution_count": 1,
   "metadata": {
    "id": "LzNQTdjzLfGu"
   },
   "outputs": [
    {
     "ename": "ModuleNotFoundError",
     "evalue": "No module named 'cv2'",
     "output_type": "error",
     "traceback": [
      "\u001b[1;31m---------------------------------------------------------------------------\u001b[0m",
      "\u001b[1;31mModuleNotFoundError\u001b[0m                       Traceback (most recent call last)",
      "\u001b[1;32m<ipython-input-1-3cc7efcf265f>\u001b[0m in \u001b[0;36m<module>\u001b[1;34m\u001b[0m\n\u001b[1;32m----> 1\u001b[1;33m \u001b[1;32mimport\u001b[0m \u001b[0mcv2\u001b[0m\u001b[1;33m\u001b[0m\u001b[1;33m\u001b[0m\u001b[0m\n\u001b[0m\u001b[0;32m      2\u001b[0m \u001b[1;32mfrom\u001b[0m \u001b[0mgoogle\u001b[0m\u001b[1;33m.\u001b[0m\u001b[0mcolab\u001b[0m\u001b[1;33m.\u001b[0m\u001b[0mpatches\u001b[0m \u001b[1;32mimport\u001b[0m \u001b[0mcv2_imshow\u001b[0m\u001b[1;33m\u001b[0m\u001b[1;33m\u001b[0m\u001b[0m\n\u001b[0;32m      3\u001b[0m \u001b[1;32mimport\u001b[0m \u001b[0mmatplotlib\u001b[0m\u001b[1;33m.\u001b[0m\u001b[0mpyplot\u001b[0m \u001b[1;32mas\u001b[0m \u001b[0mplt\u001b[0m\u001b[1;33m\u001b[0m\u001b[1;33m\u001b[0m\u001b[0m\n",
      "\u001b[1;31mModuleNotFoundError\u001b[0m: No module named 'cv2'"
     ]
    }
   ],
   "source": [
    "import cv2\n",
    "from google.colab.patches import cv2_imshow\n",
    "import matplotlib.pyplot as plt"
   ]
  },
  {
   "cell_type": "markdown",
   "metadata": {
    "id": "pXpZYr0LNT9D"
   },
   "source": [
    "Importing Image"
   ]
  },
  {
   "cell_type": "code",
   "execution_count": null,
   "metadata": {
    "colab": {
     "base_uri": "https://localhost:8080/",
     "height": 161
    },
    "id": "eDW-b3fMMRWb",
    "outputId": "47e2df0a-9eea-4dd0-c35d-43e2e0fed85e"
   },
   "outputs": [],
   "source": [
    "#Original Image\n",
    "image=cv2.imread(\"/content/seen1.jpg\")\n",
    "cv2_imshow(image)"
   ]
  },
  {
   "cell_type": "code",
   "execution_count": null,
   "metadata": {
    "colab": {
     "base_uri": "https://localhost:8080/",
     "height": 161
    },
    "id": "pUzzrAdyNi8X",
    "outputId": "99c48801-a3da-4fde-c013-09167fd0ff82"
   },
   "outputs": [],
   "source": [
    "#grey Scale Image\n",
    "grey_image=cv2.cvtColor(image,cv2.COLOR_BGR2GRAY) \n",
    "cv2_imshow(grey_image)"
   ]
  },
  {
   "cell_type": "code",
   "execution_count": null,
   "metadata": {
    "colab": {
     "base_uri": "https://localhost:8080/",
     "height": 161
    },
    "id": "L-9_L4TFObue",
    "outputId": "c0446552-e785-416d-f29c-3cccdcc39d84"
   },
   "outputs": [],
   "source": [
    "#inverted Image\n",
    "inverted_image = cv2.bitwise_not(grey_image)  \n",
    "cv2_imshow(inverted_image)"
   ]
  },
  {
   "cell_type": "code",
   "execution_count": null,
   "metadata": {
    "colab": {
     "base_uri": "https://localhost:8080/",
     "height": 161
    },
    "id": "tOMXUUufOdu2",
    "outputId": "b71e7ac4-8392-4364-d538-bed85e129a70"
   },
   "outputs": [],
   "source": [
    "#image smoothing\n",
    "image_smoothing = cv2.GaussianBlur(inverted_image, (21, 21),sigmaX=0, sigmaY=0)\n",
    "cv2_imshow(image_smoothing)"
   ]
  },
  {
   "cell_type": "code",
   "execution_count": null,
   "metadata": {
    "id": "OQlp11aJOpwc"
   },
   "outputs": [],
   "source": [
    "def pencil_sketch(x, y):\n",
    "\n",
    "    return cv2.divide(x, 255 - y, scale=256)"
   ]
  },
  {
   "cell_type": "code",
   "execution_count": null,
   "metadata": {
    "colab": {
     "base_uri": "https://localhost:8080/",
     "height": 161
    },
    "id": "fAfW8-8sOuSX",
    "outputId": "9cefe625-1592-4465-efdd-43b01e2c6ff5"
   },
   "outputs": [],
   "source": [
    "#pencil sketch\n",
    "pencil_sketch=pencil_sketch(grey_image,image_smoothing)\n",
    "cv2_imshow(pencil_sketch)"
   ]
  },
  {
   "cell_type": "code",
   "execution_count": null,
   "metadata": {
    "colab": {
     "base_uri": "https://localhost:8080/",
     "height": 305
    },
    "id": "hOD5OAkmOxmk",
    "outputId": "6c52bae3-9270-4315-f202-70302b1e43f0"
   },
   "outputs": [],
   "source": [
    "cv2_imshow(image)\n",
    "cv2_imshow(pencil_sketch)"
   ]
  },
  {
   "cell_type": "code",
   "execution_count": null,
   "metadata": {
    "id": "1GkjNhvVO0gR"
   },
   "outputs": [],
   "source": []
  }
 ],
 "metadata": {
  "colab": {
   "collapsed_sections": [],
   "name": "Image to Pencil Sketch with Python.ipynb",
   "provenance": []
  },
  "kernelspec": {
   "display_name": "Python 3",
   "language": "python",
   "name": "python3"
  },
  "language_info": {
   "codemirror_mode": {
    "name": "ipython",
    "version": 3
   },
   "file_extension": ".py",
   "mimetype": "text/x-python",
   "name": "python",
   "nbconvert_exporter": "python",
   "pygments_lexer": "ipython3",
   "version": "3.8.8"
  }
 },
 "nbformat": 4,
 "nbformat_minor": 1
}
